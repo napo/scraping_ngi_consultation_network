{
 "cells": [
  {
   "cell_type": "code",
   "execution_count": 1,
   "metadata": {},
   "outputs": [],
   "source": [
    "from bs4 import BeautifulSoup\n",
    "import requests\n",
    "import pandas as pd"
   ]
  },
  {
   "cell_type": "code",
   "execution_count": 2,
   "metadata": {},
   "outputs": [],
   "source": [
    "def getSoup(url):\n",
    "    r = requests.get(url)\n",
    "    html_doc = r.content\n",
    "    soup = BeautifulSoup(html_doc, 'html.parser')\n",
    "    return soup"
   ]
  },
  {
   "cell_type": "code",
   "execution_count": 3,
   "metadata": {},
   "outputs": [],
   "source": [
    "url_base=\"https://consultation.ngi.eu\"\n",
    "channels_url = '/channels'"
   ]
  },
  {
   "cell_type": "code",
   "execution_count": 4,
   "metadata": {},
   "outputs": [],
   "source": [
    "url = url_base + channels_url\n",
    "soup = getSoup(url)"
   ]
  },
  {
   "cell_type": "code",
   "execution_count": 5,
   "metadata": {},
   "outputs": [],
   "source": [
    "pages = soup.find_all(\"li\",class_=\"pager-next last\")[0].find_all('a')[0].attrs['href'].split(\"?page=\")[1]"
   ]
  },
  {
   "cell_type": "code",
   "execution_count": 6,
   "metadata": {},
   "outputs": [],
   "source": [
    "channels_data = []\n",
    "comments_data = []\n",
    "posts_data = []\n",
    "for page in range(int(pages)+1):\n",
    "    url = url_base + channels_url + \"?page=\" + str(page)\n",
    "    channels = soup.find_all(\"a\", class_=\"btn btn-primary\")\n",
    "    for channel in channels:\n",
    "        if channel.get_text() == 'Read more ':\n",
    "            channel_url = channel.attrs['href']\n",
    "            channel_url = url_base + channel_url  \n",
    "            soup = getSoup(channel_url)\n",
    "            channel_pages = 0\n",
    "            title_channel = soup.find_all(\"h1\",id=\"page-title\")[0].get_text().replace(\"\\t\",\"\").replace(\"\\n\",\"\").strip()\n",
    "            if len(soup.find_all(\"li\",class_=\"pager-last last\")) > 0:\n",
    "                channel_pages = int(soup.find_all(\"li\",class_=\"pager-last last\")[0].find_all('a')[0].attrs['href'].split(\"?page=\")[1])\n",
    "            channel_pages += 1\n",
    "            channel_data = {}\n",
    "            channel_data['title'] = title_channel\n",
    "            channel_data['url'] = channel_url\n",
    "            channels_data.append(channel_data)\n",
    "            for cp in range(channel_pages):\n",
    "                url_channel = channel_url + \"?page=\" + str(cp)\n",
    "                soup = getSoup(url_channel)\n",
    "                channel_posts = soup.find_all(\"\", class_=\"blog-content-tile\")\n",
    "                for idx_post in range(len(channel_posts)):\n",
    "                    post_data = {}\n",
    "                    url_post = url_base + channel_posts[idx_post].find_all('a')[0].attrs['href']\n",
    "                    soup = getSoup(url_post)\n",
    "                    title = soup.find_all(\"h1\",id=\"page-title\")[0].get_text().replace(\"\\n\",\"\").replace(\"\\t\",\"\").strip()\n",
    "                    username = soup.find_all(\"article\")[0].find_all(\"div\",class_=\"username\")[0].get_text().replace(\"\\n\",\"\").replace(\"\\t\",\"\").strip()\n",
    "                    url_username = soup.find_all(\"article\")[0].find_all(\"div\",class_=\"username\")[0].find_all(\"a\")[0].attrs['href']\n",
    "                    text = soup.find_all(\"article\")[0].find_all(\"div\",class_=\"field-item even\")[0].text\n",
    "                    month = soup.find_all(\"article\")[0].find_all(\"span\",class_=\"month\")[0].get_text()\n",
    "                    day = soup.find_all(\"article\")[0].find_all(\"span\",class_=\"day\")[0].get_text()\n",
    "                    year = soup.find_all(\"article\")[0].find_all(\"span\",class_=\"year\")[0].get_text()\n",
    "                    post_date = day + \" \" + month + \" \" + year\n",
    "                    comments = soup.find_all(\"section\",id=\"comments\")\n",
    "                    post_data[\"title\"] = title\n",
    "                    post_data['username'] = username\n",
    "                    post_data['url_username'] = url_base + url_username\n",
    "                    post_data['url'] = url_post\n",
    "                    post_data['text'] = text\n",
    "                    post_data['date'] = post_date\n",
    "                    post_data['channel'] = title_channel\n",
    "                    posts_data.append(post_data)\n",
    "                    if len(comments) >= 1:\n",
    "                        for idx_comment in range(len(comments)+1):\n",
    "                            idx_comment = idx_comment -1\n",
    "                            comment_data = {}\n",
    "                            user_comment_avatar = url_base +comments[idx_comment].find_all(\"div\",class_=\"user-picture\")[0].find_all(\"a\")[0].find_all(\"img\")[0].attrs[\"src\"]\n",
    "                            user_comment_name = comments[idx_comment].find_all(\"div\",class_=\"username\")[0].get_text().replace(\"\\n\",\"\").replace(\"\\t\",\"\").strip()\n",
    "                            user_comment_profile = url_base + comments[idx_comment].find_all(\"div\",class_=\"user-picture\")[0].find_all(\"a\")[0].attrs[\"href\"]\n",
    "                            user_comment_text = comments[idx_comment].find_all(\"div\",class_=\"comment-body\")[0].text\n",
    "                            user_comment_date = comments[idx_comment].find_all(\"div\",class_=\"date\")[0].get_text().replace(\"\\n\",\"\").replace(\"\\t\",\"\").replace(\"answered \",\"\").strip()\n",
    "                            comment_data['channel'] = title_channel\n",
    "                            comment_data['post'] = title\n",
    "                            comment_data['url_post'] = url_post\n",
    "                            comment_data['date'] = user_comment_date\n",
    "                            comment_data['username'] = user_comment_name\n",
    "                            comment_data['username_profile'] =  user_comment_profile\n",
    "                            comment_data['text'] = user_comment_text\n",
    "                            comment_data['username_avatar'] = user_comment_avatar\n",
    "                            comments_data.append(comment_data)\n",
    "            "
   ]
  },
  {
   "cell_type": "code",
   "execution_count": 7,
   "metadata": {},
   "outputs": [],
   "source": [
    "df_posts = pd.DataFrame(posts_data)"
   ]
  },
  {
   "cell_type": "code",
   "execution_count": 8,
   "metadata": {},
   "outputs": [],
   "source": [
    "df_comments = pd.DataFrame(comments_data)"
   ]
  },
  {
   "cell_type": "code",
   "execution_count": 9,
   "metadata": {},
   "outputs": [],
   "source": [
    "df_channels = pd.DataFrame(channels_data)"
   ]
  },
  {
   "cell_type": "code",
   "execution_count": 10,
   "metadata": {},
   "outputs": [],
   "source": [
    "df_posts.to_json(\"posts_data.json\")"
   ]
  },
  {
   "cell_type": "code",
   "execution_count": 11,
   "metadata": {},
   "outputs": [],
   "source": [
    "df_posts.to_csv(\"posts_data.csv\",index=False)"
   ]
  },
  {
   "cell_type": "code",
   "execution_count": 12,
   "metadata": {},
   "outputs": [],
   "source": [
    "df_comments.to_json(\"comments_data.json\")"
   ]
  },
  {
   "cell_type": "code",
   "execution_count": 13,
   "metadata": {},
   "outputs": [],
   "source": [
    "df_comments.to_csv(\"comments_data.csv\",index=False)"
   ]
  },
  {
   "cell_type": "code",
   "execution_count": 14,
   "metadata": {},
   "outputs": [],
   "source": [
    "df_channels.to_json(\"channels_data.json\")"
   ]
  },
  {
   "cell_type": "code",
   "execution_count": 15,
   "metadata": {},
   "outputs": [],
   "source": [
    "df_channels.to_csv(\"channels_data.csv\")"
   ]
  }
 ],
 "metadata": {
  "kernelspec": {
   "display_name": "Python 3",
   "language": "python",
   "name": "python3"
  },
  "language_info": {
   "codemirror_mode": {
    "name": "ipython",
    "version": 3
   },
   "file_extension": ".py",
   "mimetype": "text/x-python",
   "name": "python",
   "nbconvert_exporter": "python",
   "pygments_lexer": "ipython3",
   "version": "3.7.3"
  }
 },
 "nbformat": 4,
 "nbformat_minor": 2
}
